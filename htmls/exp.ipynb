{
 "cells": [
  {
   "cell_type": "code",
   "execution_count": 3,
   "id": "initial_id",
   "metadata": {
    "collapsed": true,
    "ExecuteTime": {
     "end_time": "2024-12-19T19:09:50.487899200Z",
     "start_time": "2024-12-19T19:09:49.902664900Z"
    }
   },
   "outputs": [],
   "source": [
    "import pandas as pd"
   ]
  },
  {
   "cell_type": "code",
   "execution_count": 10,
   "outputs": [],
   "source": [
    "file_title = \"class_assigment_13\"\n",
    "old_notebook = f\"old_notebooks/{file_title}.ipynb\"\n",
    "# file_to_extract = notebook_processor.start_extraction(notebook_path=old_notebook, file_title=file_title)\n",
    "input_file = f\"extracted_cells/{file_title}_cells.csv\"\n",
    "df = pd.read_csv(input_file)\n",
    "required_columns = ['cell_id', 'cell_type', 'cell_script', 'markdown_type', 'content']\n",
    "df['text'] = df['rephrase_text'].fillna(df['content'])\n",
    "#df['text'] = df['rephrase_text'].fillna(df['content'])\n",
    "df[['rephrase_text','text']]\n",
    "df.to_csv(input_file,index=False)"
   ],
   "metadata": {
    "collapsed": false,
    "ExecuteTime": {
     "end_time": "2024-12-19T19:12:22.344674200Z",
     "start_time": "2024-12-19T19:12:22.301055900Z"
    }
   },
   "id": "5df0cc92f82f79d4"
  },
  {
   "cell_type": "code",
   "execution_count": 29,
   "outputs": [],
   "source": [
    "import openai\n",
    "from openai import OpenAI\n",
    "import config\n",
    "\n",
    "client = OpenAI(api_key=config.OPENAI_API_KEY)\n",
    "\n",
    "\n",
    "def rephrase_text_hebrew(input_text):\n",
    "    \"\"\"\n",
    "    Rephrases the given Hebrew text into a clearer version using OpenAI's GPT API.\n",
    "\n",
    "    Args:\n",
    "        input_text (str): The original Hebrew text to rephrase.\n",
    "\n",
    "    Returns:\n",
    "        str: Rephrased Hebrew text.\n",
    "    \"\"\"\n",
    "    # Define the system message\n",
    "    system_instruction = (\n",
    "        \"You are a Hebrew language assistant. Your task is to rephrase the given text \"\n",
    "        \"into clearer Hebrew while keeping the original meaning. The text is for 15-year-old \"\n",
    "        \"kids learning AI. Format the text to be more understandable by adding line breaks, \"\n",
    "        \"commas, and other punctuation where needed to improve clarity. Simplify the language \"\n",
    "        \"if necessary to suit their understanding level.\"\n",
    "    )\n",
    "    \n",
    "    # Call the new ChatCompletion API\n",
    "    response = client.chat.completions.create(\n",
    "        model=\"gpt-3.5-turbo\",  \n",
    "        messages=[\n",
    "            {\"role\": \"system\", \"content\": system_instruction},\n",
    "            {\"role\": \"user\", \"content\": input_text}\n",
    "        ],\n",
    "        temperature=0.8\n",
    "    )\n",
    "\n",
    "    return response\n",
    "\n",
    "\n",
    "\n",
    "input_text = \"\"\"\n",
    "\n",
    " באמצעות איזה גרפים כדאי להציג משתנים אלה?\n",
    "  באמצעות ספריית סיברון הציגו גרף מתאים למשתנה גיל ולחץ דם, כתבו מסקנות חדשות שהסקתם מהייצוג הגרפי#\n",
    "\n",
    "**למדריך - חלק ייבחרו בBOXPLOT וחלק בהיסטוגרמה התרגיל בכוונה לא נותן פיתרון אחד נכון כי זה יוביל לדיון בכיתה שתבצעו\"\"\"\n",
    "response = rephrase_text_hebrew(input_text)\n",
    "#print(\"Original Text:\", input_text)\n"
   ],
   "metadata": {
    "collapsed": false,
    "ExecuteTime": {
     "end_time": "2024-12-19T20:01:31.110252300Z",
     "start_time": "2024-12-19T20:01:26.800627800Z"
    }
   },
   "id": "b1dfe86f6bfc9b5a"
  },
  {
   "cell_type": "code",
   "execution_count": 30,
   "outputs": [
    {
     "name": "stdout",
     "output_type": "stream",
     "text": [
      "אילו גרפים מתאימים להצגת המשתנים האלה?\n",
      "באמצעות ספריית סיברון צרפו גרף שמייצג את הקשר בין גיל ללחץ הדם.\n",
      "כתבו מסקנות חדשות שהבנתם מהגרף.\n",
      "\n",
      "**שימו לב - חלק מהתלמידים ישתמשו בגרף \"BOXPLOT\" וחלקם יעדיפו את ההיסטוגרמה. התרגיל מכוון שלא יהיה פתרון נכון אחד, כדי שתוכלו לדון ולהשוות בין הגרפים בכיתה.\n"
     ]
    }
   ],
   "source": [
    "print(response.choices[0].message.content.replace('\\n','<br>'))"
   ],
   "metadata": {
    "collapsed": false,
    "ExecuteTime": {
     "end_time": "2024-12-19T20:01:31.952605Z",
     "start_time": "2024-12-19T20:01:31.935318700Z"
    }
   },
   "id": "cd1d52cad1773777"
  }
 ],
 "metadata": {
  "kernelspec": {
   "display_name": "Python 3",
   "language": "python",
   "name": "python3"
  },
  "language_info": {
   "codemirror_mode": {
    "name": "ipython",
    "version": 2
   },
   "file_extension": ".py",
   "mimetype": "text/x-python",
   "name": "python",
   "nbconvert_exporter": "python",
   "pygments_lexer": "ipython2",
   "version": "2.7.6"
  }
 },
 "nbformat": 4,
 "nbformat_minor": 5
}
